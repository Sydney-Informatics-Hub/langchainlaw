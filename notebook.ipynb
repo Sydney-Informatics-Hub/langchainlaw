{
 "cells": [
  {
   "cell_type": "code",
   "execution_count": null,
   "id": "0f70ea70-047f-4f10-b09f-18e90e3685cd",
   "metadata": {},
   "outputs": [],
   "source": [
    "import json\n",
    "from pathlib import Path\n",
    "from langchainlaw.langchainlaw import Classifier"
   ]
  },
  {
   "cell_type": "code",
   "execution_count": null,
   "id": "7cc94d08-b95c-4a4b-ae49-8e077b936a96",
   "metadata": {},
   "outputs": [],
   "source": [
    "# see config.example.json for an example\n",
    "with open(\"config.json\", \"r\") as cfh:\n",
    "    config = json.load(cfh)"
   ]
  },
  {
   "cell_type": "code",
   "execution_count": null,
   "id": "513327f2-fca9-4ee5-bffe-f84b0606041f",
   "metadata": {},
   "outputs": [],
   "source": [
    "# create a Classifier - this loads the prompts file indicated in the config\n",
    "classifier = Classifier(config)"
   ]
  },
  {
   "cell_type": "code",
   "execution_count": null,
   "id": "ccf121cb-c416-4d2d-98db-aa6714751976",
   "metadata": {},
   "outputs": [],
   "source": [
    "# this runs the prompts against a json casefile from nswcaselaw\n",
    "llm_results = classifier.classify(Path(\"input/549ffcd63004262463c7d45b.json\"))"
   ]
  },
  {
   "cell_type": "code",
   "execution_count": null,
   "id": "d2856419-3555-4a50-884c-b21858442198",
   "metadata": {},
   "outputs": [],
   "source": [
    "llm_results"
   ]
  },
  {
   "cell_type": "code",
   "execution_count": null,
   "id": "922ca7a9-4b0b-4f8f-bd90-be65d6802504",
   "metadata": {},
   "outputs": [],
   "source": [
    "# the collimate method turns the JSON results into a set of columns\n",
    "columns = classifier.collimate(llm_results)"
   ]
  },
  {
   "cell_type": "code",
   "execution_count": null,
   "id": "d39a594e-afe8-45ec-b661-7fdd1550ae04",
   "metadata": {},
   "outputs": [],
   "source": [
    "columns"
   ]
  },
  {
   "cell_type": "code",
   "execution_count": null,
   "id": "4b4c1ffd-46d1-4318-a1b5-616968eac1ba",
   "metadata": {},
   "outputs": [],
   "source": []
  }
 ],
 "metadata": {
  "kernelspec": {
   "display_name": "Python 3 (ipykernel)",
   "language": "python",
   "name": "python3"
  },
  "language_info": {
   "codemirror_mode": {
    "name": "ipython",
    "version": 3
   },
   "file_extension": ".py",
   "mimetype": "text/x-python",
   "name": "python",
   "nbconvert_exporter": "python",
   "pygments_lexer": "ipython3",
   "version": "3.9.15"
  }
 },
 "nbformat": 4,
 "nbformat_minor": 5
}
